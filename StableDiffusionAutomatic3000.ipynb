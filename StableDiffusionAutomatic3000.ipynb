{
  "nbformat": 4,
  "nbformat_minor": 0,
  "metadata": {
    "colab": {
      "provenance": [],
      "machine_shape": "hm",
      "gpuType": "T4",
      "authorship_tag": "ABX9TyPIY9kXMveotiibJVoq2lnl",
      "include_colab_link": true
    },
    "kernelspec": {
      "name": "python3",
      "display_name": "Python 3"
    },
    "language_info": {
      "name": "python"
    },
    "accelerator": "GPU"
  },
  "cells": [
    {
      "cell_type": "markdown",
      "metadata": {
        "id": "view-in-github",
        "colab_type": "text"
      },
      "source": [
        "<a href=\"https://colab.research.google.com/github/Born2BeKind/Stable-Diffusion-Automatic-3000/blob/main/StableDiffusionAutomatic3000.ipynb\" target=\"_parent\"><img src=\"https://colab.research.google.com/assets/colab-badge.svg\" alt=\"Open In Colab\"/></a>"
      ]
    },
    {
      "cell_type": "code",
      "source": [
        "#@markdown # Connect Google Drive\n",
        "from google.colab import drive\n",
        "from IPython.display import clear_output\n",
        "import ipywidgets as widgets\n",
        "import os\n",
        "\n",
        "def inf(msg, style, wdth): inf = widgets.Button(description=msg, disabled=True, button_style=style, layout=widgets.Layout(min_width=wdth));display(inf)\n",
        "Shared_Drive = \"\" #@param {type:\"string\"}\n",
        "#@markdown - Leave empty if you're not using a shared drive\n",
        "\n",
        "print(\"\u001b[0;33mConnecting...\")\n",
        "drive.mount('/content/gdrive')\n",
        "\n",
        "if Shared_Drive!=\"\" and os.path.exists(\"/content/gdrive/Shareddrives\"):\n",
        "  mainpth=\"Shareddrives/\"+Shared_Drive\n",
        "else:\n",
        "  mainpth=\"MyDrive\"\n",
        "\n",
        "clear_output()\n",
        "inf('\\u2714 Done','success', '50px')\n",
        "\n",
        "#@markdown ---"
      ],
      "metadata": {
        "cellView": "form",
        "id": "r22mTEWJ0Mru"
      },
      "execution_count": null,
      "outputs": []
    },
    {
      "cell_type": "code",
      "source": [
        "# Install aria2\n",
        "!apt-get install aria2\n",
        "!mkdir -p /content/stable-diffusion-webui/\n",
        "\n",
        "# Clone the GitHub repository\n",
        "!git clone https://github.com/AUTOMATIC1111/stable-diffusion-webui\n",
        "\n",
        "# Change directory to the cloned repository\n",
        "%cd stable-diffusion-webui\n",
        "\n",
        "# Download models, upscalers,  and extensions using wget\n",
        "!wget -c -O models/Stable-diffusion/absolutereality_v181.safetensors https://civitai.com/api/download/models/132760\n",
        "!wget -c -O models/VAE/vae-ft-mse-840000-ema-pruned.safetensors https://huggingface.co/stabilityai/sd-vae-ft-mse-original/resolve/main/vae-ft-mse-840000-ema-pruned.safetensors\n",
        "!wget -c -O models/VAE/kl-f8-anime2.ckpt https://huggingface.co/hakurei/waifu-diffusion-v1-4/resolve/main/vae/kl-f8-anime2.ckpt\n"
      ],
      "metadata": {
        "id": "0gS-F7DygnFU"
      },
      "execution_count": null,
      "outputs": []
    },
    {
      "cell_type": "code",
      "source": [
        "!mkdir -p /content/stable-diffusion-webui/models/ESRGAN/\n",
        "!wget -c -O /content/stable-diffusion-webui/models/ESRGAN/4x-UltraSharp.pth https://huggingface.co/Zabin/Resizers/resolve/main/4x-UltraSharp.pth"
      ],
      "metadata": {
        "id": "1hs-I2MHrp0_"
      },
      "execution_count": null,
      "outputs": []
    },
    {
      "cell_type": "code",
      "execution_count": null,
      "metadata": {
        "id": "DxRT33Oi0EZa"
      },
      "outputs": [],
      "source": [
        "# Download embeddings\n",
        "\n",
        "!mkdir -p /content/stable-diffusion-webui/embeddings/Negative\n",
        "\n",
        "!wget -O /content/stable-diffusion-webui/embeddings/Negative/EasyNegative.pt https://huggingface.co/embed/negative/resolve/main/EasyNegative.pt\n",
        "!wget -O /content/stable-diffusion-webui/embeddings/Negative/EasyNegativeV2.safetensors https://huggingface.co/gsdf/Counterfeit-V3.0/resolve/main/embedding/EasyNegativeV2.safetensors\n",
        "!wget -O /content/stable-diffusion-webui/embeddings/Negative/bad-hands-5.pt https://huggingface.co/embed/negative/resolve/main/bad-hands-5.pt\n",
        "!wget -O /content/stable-diffusion-webui/embeddings/Negative/bad_prompt_version2.pt https://huggingface.co/embed/negative/resolve/main/bad_prompt_version2.pt\n",
        "!wget -O /content/stable-diffusion-webui/embeddings/Negative/ng_deepnegative_v1_75t.pt https://huggingface.co/embed/negative/resolve/main/ng_deepnegative_v1_75t.pt\n",
        "!wget -O /content/stable-diffusion-webui/embeddings/Negative/bad-artist.pt https://huggingface.co/ffxvs/negative-prompts-pack/resol\n",
        "\n",
        "\n",
        "# Clone extensions\n",
        "\n",
        "!git clone https://github.com/deforum-art/deforum-for-automatic1111-webui /content/stable-diffusion-webui/extensions/deforum-for-automatic1111-webui\n",
        "!git clone https://github.com/zanllp/sd-webui-infinite-image-browsing /content/stable-diffusion-webui/extensions/sd-webui-infinite-image-browsing\n",
        "!git clone https://github.com/etherealxx/batchlinks-webui /content/stable-diffusion-webui/extensions/batchlinks-webui\n",
        "!git clone https://github.com/pkuliyi2015/multidiffusion-upscaler-for-automatic1111 /content/stable-diffusion-webui/extensions/multidiffusion-upscaler-for-automatic1111\n",
        "!git clone https://github.com/mcmonkeyprojects/sd-dynamic-thresholding /content/stable-diffusion-webui/extensions/sd-dynamic-thresholding\n",
        "!git clone https://github.com/DominikDoom/a1111-sd-webui-tagcomplete /content/stable-diffusion-webui/extensions/a1111-sd-webui-tagcomplete\n",
        "!git clone https://github.com/aka7774/sd_filer /content/stable-diffusion-webui/extensions/sd_filer\n",
        "!git clone https://github.com/Bing-su/adetailer /content/stable-diffusion-webui/extensions/adetailer\n",
        "!git clone https://github.com/thomasasfk/sd-webui-aspect-ratio-helper /content/stable-diffusion-webui/extensions/sd-webui-aspect-ratio-helper\n",
        "!git clone https://github.com/novitalabs/sd-webui-cleaner /content/stable-diffusion-webui/extensions/sd-webui-cleaner\n",
        "!git clone https://github.com/BlafKing/sd-civitai-browser-plus /content/stable-diffusion-webui/extensions/sd-civitai-browser-plus\n",
        "\n",
        "\n",
        "# Modify configuration\n",
        "!sed -i 's/\\[\"sd_model_checkpoint\"\\]/\\[\"sd_model_checkpoint\",\"sd_vae\",\"CLIP_stop_at_last_layers\"\\]/g' modules/shared_options.py\n",
        "\n"
      ]
    },
    {
      "cell_type": "code",
      "source": [
        "# Launch the application\n",
        "!python3 launch.py --opt-sdp-attention --enable-insecure-extension-access --disable-safe-unpickle --no-hashing --disable-console-progressbars --theme dark --ngrok"
      ],
      "metadata": {
        "id": "PJe2G8HPkK80"
      },
      "execution_count": null,
      "outputs": []
    }
  ]
}